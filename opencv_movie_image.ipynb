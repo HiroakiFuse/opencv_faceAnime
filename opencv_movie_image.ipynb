{
 "cells": [
  {
   "cell_type": "code",
   "execution_count": 1,
   "metadata": {},
   "outputs": [
    {
     "name": "stdout",
     "output_type": "stream",
     "text": [
      "Collecting pip\n",
      "\u001b[?25l  Downloading https://files.pythonhosted.org/packages/5f/25/e52d3f31441505a5f3af41213346e5b6c221c9e086a166f3703d2ddaf940/pip-18.0-py2.py3-none-any.whl (1.3MB)\n",
      "\u001b[K    100% |████████████████████████████████| 1.3MB 4.4MB/s ta 0:00:01\n",
      "\u001b[31mdistributed 1.21.8 requires msgpack, which is not installed.\u001b[0m\n",
      "\u001b[?25hInstalling collected packages: pip\n",
      "  Found existing installation: pip 10.0.1\n",
      "    Uninstalling pip-10.0.1:\n",
      "      Successfully uninstalled pip-10.0.1\n",
      "Successfully installed pip-18.0\n"
     ]
    }
   ],
   "source": [
    "# -*- coding: Futf-8 -*-\n",
    "!python -m pip install --upgrade pip"
   ]
  },
  {
   "cell_type": "code",
   "execution_count": 2,
   "metadata": {},
   "outputs": [
    {
     "name": "stdout",
     "output_type": "stream",
     "text": [
      "Collecting opencv-python\n",
      "\u001b[?25l  Downloading https://files.pythonhosted.org/packages/53/e0/21c8964fa8ef50842ebefaa7346a3cf0e37b56c8ecd97ed6bd2dbe577705/opencv_python-3.4.2.17-cp36-cp36m-manylinux1_x86_64.whl (25.0MB)\n",
      "\u001b[K    100% |████████████████████████████████| 25.0MB 1.6MB/s ta 0:00:011   32% |██████████▎                     | 8.0MB 4.5MB/s eta 0:00:04    58% |██████████████████▊             | 14.6MB 5.1MB/s eta 0:00:03\n",
      "\u001b[?25hRequirement already satisfied: numpy>=1.11.3 in /home/hiro/anaconda3/lib/python3.6/site-packages (from opencv-python) (1.14.3)\n",
      "Installing collected packages: opencv-python\n",
      "Successfully installed opencv-python-3.4.2.17\n"
     ]
    }
   ],
   "source": [
    "!pip install opencv-python"
   ]
  },
  {
   "cell_type": "code",
   "execution_count": 3,
   "metadata": {},
   "outputs": [],
   "source": [
    "import cv2"
   ]
  },
  {
   "cell_type": "code",
   "execution_count": 4,
   "metadata": {
    "collapsed": true
   },
   "outputs": [],
   "source": [
    "def capture_image(cut_cnt):\n",
    "    movie_path = '動画のパス'\n",
    "    output_path = '画像の出力先のパス'\n",
    "    #動画読み込み\n",
    "    capture = cv2.VideoCapture(movie_path)\n",
    "    #イメージ数とフレーム数初期化\n",
    "    img_cnt = 0\n",
    "    frame_cnt = 0\n",
    "    #フレーム画像ループ\n",
    "    while(capture.isOpened()):\n",
    "        #画像1枚取得\n",
    "        ret,frame = capture.read()\n",
    "        if ret == False:\n",
    "            break\n",
    "        #指定した数だけ保存\n",
    "        if frame_cnt % cut_cnt == 0:\n",
    "            img_file_name = output_path + str(img_cnt) + \".jpg\"\n",
    "            cv2.imwrite(img_file_name,frame)\n",
    "            img_cnt += 1\n",
    "        frame_cnt += 1\n",
    "    #キャプチャ開放\n",
    "    capture.release()\n",
    "if __name__ == '__main__':\n",
    "    capture_image(int(20))"
   ]
  },
  {
   "cell_type": "code",
   "execution_count": null,
   "metadata": {
    "collapsed": true
   },
   "outputs": [],
   "source": []
  }
 ],
 "metadata": {
  "kernelspec": {
   "display_name": "Python 3",
   "language": "python",
   "name": "python3"
  },
  "language_info": {
   "codemirror_mode": {
    "name": "ipython",
    "version": 3
   },
   "file_extension": ".py",
   "mimetype": "text/x-python",
   "name": "python",
   "nbconvert_exporter": "python",
   "pygments_lexer": "ipython3",
   "version": "3.6.5"
  }
 },
 "nbformat": 4,
 "nbformat_minor": 2
}
